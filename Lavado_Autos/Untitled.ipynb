{
 "cells": [
  {
   "cell_type": "code",
   "execution_count": 1,
   "id": "proud-professor",
   "metadata": {},
   "outputs": [],
   "source": [
    "import random\n",
    "import simpy"
   ]
  },
  {
   "cell_type": "code",
   "execution_count": 2,
   "id": "exclusive-glossary",
   "metadata": {},
   "outputs": [],
   "source": [
    "RANDOM_SEED = 42\n",
    "NUM_MACHINES = 2  # Number de maquinas en la lavadora\n",
    "WASHTIME = 5      # Minutos en limpiar un carro\n",
    "T_INTER = 7       # Crea un coche cada ~ 7 minutos\n",
    "SIM_TIME = 20     # Tiempo de simulación en minutos"
   ]
  },
  {
   "cell_type": "code",
   "execution_count": 133,
   "id": "natural-extension",
   "metadata": {},
   "outputs": [],
   "source": [
    "class Carwash(object):\n",
    "    #Un túnel de lavado tiene un número limitado de máquinas (` `NUM_MACHINES``) para\n",
    "    #Limpiar coches en paralelo.\n",
    "    #Los coches tienen que solicitar una de las máquinas. Cuando consiguieron uno, ellos\n",
    "    #puede iniciar los procesos de lavado y esperar a que finalice (que\n",
    "    #toma minutos de `` tiempo de lavado '').\n",
    "    \n",
    "    def __init__(self, env, num_machines, washtime):\n",
    "        self.env = env\n",
    "        self.machine = simpy.Resource(env, num_machines)\n",
    "        self.washtime = washtime\n",
    "\n",
    "    def wash(self, car, num_machines):\n",
    "        #Los procesos de lavado. Se necesita un` `coche`` procesa y prueba para limpiarlo.\n",
    "        \n",
    "        yield self.env.timeout(WASHTIME)\n",
    "        print(\"La lavadora %s elimino el %d%% de %s'.\" %\n",
    "              (random.randint(1,2) ,random.randint(50, 99), car))\n",
    "        \n",
    "    def tiempo_salida(self, car):\n",
    "        #Los procesos de lavado. Se necesita un` `coche`` procesa y prueba para limpiarlo.\n",
    "        a = random.randint(2, 5)\n",
    "        yield self.env.timeout(a)\n",
    "        \n",
    "    def tiempo_demora(self, car):\n",
    "        #Los procesos de lavado. Se necesita un` `coche`` procesa y prueba para limpiarlo.\n",
    "        a = random.randint(1, 5)\n",
    "        yield self.env.timeout(a)\n",
    "\n",
    "        \n",
    "def car(env, name, cw, num_machines):\n",
    "    #El proceso del auto (cada auto tiene un` `nombre '') llega al lavado de autos\n",
    "    #(`` cw '') y solicita una máquina de limpieza.\n",
    "    #Luego inicia el proceso de lavado, espera a que termine y\n",
    "    #se va para no volver nunca ...\n",
    "    print('El %s llega a la lavadora a las %.2f.' % (name, env.now))\n",
    "    with cw.machine.request() as request:\n",
    "        yield request\n",
    "        \n",
    "        yield env.process(cw.tiempo_demora(name))\n",
    "        print(\"Tiempo demora del %s'  a las %.2f.\" % (name, env.now))\n",
    "\n",
    "        print('El %s entra a la lavadora a las %.2f.' % (name, env.now))\n",
    "        yield env.process(cw.wash(name,num_machines))\n",
    "\n",
    "        print('El %s sale del tunel de lavado a las %.2f.' % (name, env.now))\n",
    "        \n",
    "        yield env.process(cw.tiempo_salida(name))\n",
    "        print(\"Se libera la cola del %s' sale del tunel de lavado a las %.2f.\" % (name, env.now))\n",
    "        \n",
    "\n",
    "\n",
    "def setup(env, num_machines, washtime, t_inter):\n",
    "    #Crea un lavado de autos, varios autos iniciales y sigue creando autos\n",
    "    #aprox. cada `` t_inter`` minutos.\n",
    "    # Creamos la lavadora\n",
    "    #num_machines = random.randrange(1,3)\n",
    "    carwash = Carwash(env, num_machines, washtime)\n",
    "\n",
    "    # Creamos los carros iniciales\n",
    "    for i in range(4):\n",
    "        env.process(car(env, 'Carro %d' % i, carwash,num_machines))\n",
    "\n",
    "    # Crea más coches mientras se ejecuta la simulación\n",
    "    while True:\n",
    "        yield env.timeout(random.randint(t_inter - 2, t_inter + 2))\n",
    "        i += 1\n",
    "        env.process(car(env, 'Carro %d' % i, carwash,num_machines))"
   ]
  },
  {
   "cell_type": "code",
   "execution_count": 134,
   "id": "analyzed-manor",
   "metadata": {},
   "outputs": [
    {
     "data": {
      "text/plain": [
       "<Process(setup) object at 0x7f9ea17c5c40>"
      ]
     },
     "execution_count": 134,
     "metadata": {},
     "output_type": "execute_result"
    }
   ],
   "source": [
    "# Configurar e iniciar la simulación\n",
    "\n",
    "random.seed(RANDOM_SEED)  \n",
    "env = simpy.Environment()\n",
    "env.process(setup(env, NUM_MACHINES, WASHTIME, T_INTER))"
   ]
  },
  {
   "cell_type": "code",
   "execution_count": 135,
   "id": "standard-comparative",
   "metadata": {},
   "outputs": [
    {
     "name": "stdout",
     "output_type": "stream",
     "text": [
      "Lavadora UPS\n",
      "El Carro 0 llega a la lavadora a las 0.00.\n",
      "El Carro 1 llega a la lavadora a las 0.00.\n",
      "El Carro 2 llega a la lavadora a las 0.00.\n",
      "El Carro 3 llega a la lavadora a las 0.00.\n",
      "Tiempo demora del Carro 0'  a las 1.00.\n",
      "El Carro 0 entra a la lavadora a las 1.00.\n",
      "Tiempo demora del Carro 1'  a las 3.00.\n",
      "El Carro 1 entra a la lavadora a las 3.00.\n",
      "El Carro 4 llega a la lavadora a las 5.00.\n",
      "La lavadora 1 elimino el 58% de Carro 0'.\n",
      "El Carro 0 sale del tunel de lavado a las 6.00.\n",
      "La lavadora 1 elimino el 87% de Carro 1'.\n",
      "El Carro 1 sale del tunel de lavado a las 8.00.\n",
      "Se libera la cola del Carro 0' sale del tunel de lavado a las 8.00.\n",
      "Tiempo demora del Carro 2'  a las 9.00.\n",
      "El Carro 2 entra a la lavadora a las 9.00.\n",
      "El Carro 5 llega a la lavadora a las 11.00.\n",
      "Se libera la cola del Carro 1' sale del tunel de lavado a las 13.00.\n",
      "La lavadora 1 elimino el 64% de Carro 2'.\n",
      "El Carro 2 sale del tunel de lavado a las 14.00.\n",
      "Tiempo demora del Carro 3'  a las 14.00.\n",
      "El Carro 3 entra a la lavadora a las 14.00.\n",
      "El Carro 6 llega a la lavadora a las 16.00.\n",
      "Se libera la cola del Carro 2' sale del tunel de lavado a las 16.00.\n",
      "Tiempo demora del Carro 4'  a las 18.00.\n",
      "El Carro 4 entra a la lavadora a las 18.00.\n",
      "La lavadora 2 elimino el 64% de Carro 3'.\n",
      "El Carro 3 sale del tunel de lavado a las 19.00.\n"
     ]
    }
   ],
   "source": [
    "print('Lavadora UPS')\n",
    "env.run(until=SIM_TIME)"
   ]
  },
  {
   "cell_type": "code",
   "execution_count": 80,
   "id": "premium-excuse",
   "metadata": {},
   "outputs": [
    {
     "name": "stdout",
     "output_type": "stream",
     "text": [
      "2\n"
     ]
    }
   ],
   "source": []
  },
  {
   "cell_type": "code",
   "execution_count": null,
   "id": "divided-insulin",
   "metadata": {},
   "outputs": [],
   "source": []
  }
 ],
 "metadata": {
  "kernelspec": {
   "display_name": "Python 3",
   "language": "python",
   "name": "python3"
  },
  "language_info": {
   "codemirror_mode": {
    "name": "ipython",
    "version": 3
   },
   "file_extension": ".py",
   "mimetype": "text/x-python",
   "name": "python",
   "nbconvert_exporter": "python",
   "pygments_lexer": "ipython3",
   "version": "3.8.5"
  }
 },
 "nbformat": 4,
 "nbformat_minor": 5
}
