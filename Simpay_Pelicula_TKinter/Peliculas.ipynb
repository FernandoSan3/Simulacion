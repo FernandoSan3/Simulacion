{
 "cells": [
  {
   "cell_type": "markdown",
   "id": "beneficial-burner",
   "metadata": {},
   "source": [
    "# Practica No 13: Peliculas\n",
    "\n",
    "\n",
    "## Nombre:\n",
    "\n",
    "###       Fernando Sanchez\n",
    "\n",
    "## Enunciado:\n",
    "\n",
    "    Al modelo de simulación de la venta de boletos de un teatro/cine agregar la simulación grafica 2D/3D \n",
    "    utilizando cualquier libreria grafica, por ejemplo pygame/tkinter, etc. generar un informe en formato PDF \n",
    "    que me permita evidenciar la simulación y generar una grafica/reporte de los resultados."
   ]
  },
  {
   "cell_type": "code",
   "execution_count": 9,
   "id": "reflected-thermal",
   "metadata": {},
   "outputs": [],
   "source": [
    "# Importar las librerias para el analasis\n",
    "import collections\n",
    "import random\n",
    "import simpy\n",
    "from tkinter import *\n",
    "from tkinter import messagebox\n",
    "from tkinter import ttk\n",
    "import tkinter as tk"
   ]
  },
  {
   "cell_type": "code",
   "execution_count": 3,
   "id": "stock-vertical",
   "metadata": {},
   "outputs": [],
   "source": [
    "def ventaBoletos(env, num_boletos, pelicula, teatro):\n",
    "    with teatro.contador.request() as turno:\n",
    "        resultado = yield turno | teatro.sold_out[pelicula]\n",
    "        if turno not in resultado:\n",
    "            teatro.num_renegados[pelicula] += 1\n",
    "            return\n",
    "        if teatro.num_boletos[pelicula] < num_boletos:\n",
    "            yield env.timeout(0.5) \n",
    "            return\n",
    "        teatro.num_boletos[pelicula] -= num_boletos\n",
    "        if teatro.num_boletos[pelicula] < 2:\n",
    "            teatro.sold_out[pelicula].succeed()\n",
    "            teatro.tiempo_agotado[pelicula] = env.now\n",
    "            teatro.num_boletos[pelicula] = 0\n",
    "        yield env.timeout(1)"
   ]
  },
  {
   "cell_type": "code",
   "execution_count": 4,
   "id": "fantastic-server",
   "metadata": {},
   "outputs": [],
   "source": [
    "def llegadaClientes(env, teatro):\n",
    "    while True:\n",
    "        yield env.timeout(random.expovariate(1/0.5))\n",
    "        pelicula = random.choices(teatro.peliculas, teatro.probabilidad, k=1)\n",
    "        num_boletos = random.randint(1, 10)\n",
    "        if teatro.num_boletos[pelicula[0]]:\n",
    "            env.process(ventaBoletos(env, num_boletos, pelicula[0], teatro))"
   ]
  },
  {
   "cell_type": "code",
   "execution_count": 5,
   "id": "federal-works",
   "metadata": {},
   "outputs": [],
   "source": [
    "def process_run(velocidas,cantidadBoleto,tmSimulacion):\n",
    "    VELOCIDAD_LLEGADA = velocidas\n",
    "    NUM_BOLETO = cantidadBoleto\n",
    "    TIEMPO_SIMULACION = tmSimulacion\n",
    "    \n",
    "    resultado = \"\"\n",
    "    \n",
    "    Teatro = collections.namedtuple('Teatro', 'contador, peliculas, probabilidad, num_boletos, sold_out, tiempo_agotado, num_renegados')\n",
    "\n",
    "    print('Teatro Carlos Crespi - UPS')\n",
    "    \n",
    "    resultado = \"Teatro Carlos Crespi - UPS\"\n",
    "    env = simpy.Environment()\n",
    "\n",
    "    contador = simpy.Resource(env,capacity=1)\n",
    "    peliculas = ['Conjuro 3', 'Rapidos y Furiosos 10', 'Pulp Fictions', 'La liga de la Justicia', 'Godzilla vs Kong']\n",
    "    \n",
    "    resultado = resultado +\"\\n\"\n",
    "    \n",
    "    probabilidad=[0.1, 0.3, 0.5, 0.7, 0.9]\n",
    "    num_boletos = {pelicula: NUM_BOLETO for pelicula in peliculas}\n",
    "    sold_out = {pelicula: env.event() for pelicula in peliculas}\n",
    "    tiempo_agotado = {pelicula: None for pelicula in peliculas}\n",
    "    num_renegados = {pelicula: 0 for pelicula in peliculas}\n",
    "\n",
    "    teatro = Teatro(contador, peliculas, probabilidad, num_boletos, sold_out, tiempo_agotado, num_renegados)\n",
    "    env.process(llegadaClientes(env, teatro))\n",
    "    env.run(until=TIEMPO_SIMULACION)\n",
    "\n",
    "    # Analisis y resultados\n",
    "    for pelicula in peliculas:\n",
    "        \n",
    "        if teatro.sold_out[pelicula]:\n",
    "            \n",
    "            print('Pelicula: %s se agoto en el tiempo %.1f despues de salir a la venta' %(pelicula, teatro.tiempo_agotado[pelicula]))\n",
    "            sms1 = 'Pelicula: %s se agoto en el tiempo %.1f despues de salir a la venta' %(pelicula, teatro.tiempo_agotado[pelicula])\n",
    "            \n",
    "            print('Numero de personas que salieron de la fila/renegados %s' %teatro.num_renegados[pelicula])\n",
    "            sms2 = 'Numero de personas que salieron de la fila/renegados %s' %teatro.num_renegados[pelicula]\n",
    "            \n",
    "            resultado = resultado + \"\\n\" + sms1 +\"\\n\"+ sms2\n",
    "    return resultado"
   ]
  },
  {
   "cell_type": "code",
   "execution_count": 7,
   "id": "distinct-oliver",
   "metadata": {},
   "outputs": [
    {
     "name": "stdout",
     "output_type": "stream",
     "text": [
      "Teatro Carlos Crespi - UPS\n",
      "Pelicula: Conjuro 3 se agoto en el tiempo 108.9 despues de salir a la venta\n",
      "Numero de personas que salieron de la fila/renegados 0\n",
      "Pelicula: Rapidos y Furiosos 10 se agoto en el tiempo 23.4 despues de salir a la venta\n",
      "Numero de personas que salieron de la fila/renegados 0\n",
      "Pelicula: Pulp Fictions se agoto en el tiempo 16.4 despues de salir a la venta\n",
      "Numero de personas que salieron de la fila/renegados 3\n",
      "Pelicula: La liga de la Justicia se agoto en el tiempo 13.4 despues de salir a la venta\n",
      "Numero de personas que salieron de la fila/renegados 3\n",
      "Pelicula: Godzilla vs Kong se agoto en el tiempo 14.9 despues de salir a la venta\n",
      "Numero de personas que salieron de la fila/renegados 6\n",
      "Resultado=>  Teatro Carlos Crespi - UPS\n",
      "\n",
      "Pelicula: Conjuro 3 se agoto en el tiempo 108.9 despues de salir a la venta\n",
      "Numero de personas que salieron de la fila/renegados 0\n",
      "Pelicula: Rapidos y Furiosos 10 se agoto en el tiempo 23.4 despues de salir a la venta\n",
      "Numero de personas que salieron de la fila/renegados 0\n",
      "Pelicula: Pulp Fictions se agoto en el tiempo 16.4 despues de salir a la venta\n",
      "Numero de personas que salieron de la fila/renegados 3\n",
      "Pelicula: La liga de la Justicia se agoto en el tiempo 13.4 despues de salir a la venta\n",
      "Numero de personas que salieron de la fila/renegados 3\n",
      "Pelicula: Godzilla vs Kong se agoto en el tiempo 14.9 despues de salir a la venta\n",
      "Numero de personas que salieron de la fila/renegados 6\n"
     ]
    }
   ],
   "source": [
    "resp = process_run(velocidas=52,cantidadBoleto=18,tmSimulacion=290)\n",
    "print(\"Resultado=> \",resp)"
   ]
  },
  {
   "cell_type": "code",
   "execution_count": 15,
   "id": "female-graduate",
   "metadata": {},
   "outputs": [],
   "source": [
    "grafica = tk.Tk()\n",
    "grafica.geometry(\"350x200\")\n",
    "grafica.title(\"Simulación de peliculas\")\n",
    "#grafica.config(bg = 'powder blue')\n",
    "frame =Frame (bg = 'black')\n",
    "grafica.resizable(0,0)\n",
    "\n",
    "txtVelocidad=StringVar()\n",
    "velocidad = Label(grafica,text=\"Velocidad\", fg='black', width=10).place(x=15, y=10)\n",
    "lblVelocidad = ttk.Entry(grafica, textvariable=txtVelocidad).place(x=150,y=10)\n",
    "\n",
    "txtBoleto=StringVar()\n",
    "cantidadBoleto = Label( grafica,text=\"Cantida boletos\", fg='black',width=20).place(x=5, y=40)\n",
    "lblBoleto = ttk.Entry(grafica, textvariable=txtBoleto).place(x=150,y=40)\n",
    "\n",
    "txtSimulacion=StringVar()\n",
    "simulacion = Label(grafica,text=\"Tiempo de simulacion\", fg='black',width=20).place(x=10, y=70)\n",
    "lblSimulacion = ttk.Entry(grafica,textvariable=txtSimulacion).place(x=150,y=70)\n",
    "s\n",
    "def guardar():\n",
    "    velocida = txtVelocidad.get()\n",
    "    boletos=txtBoleto.get()\n",
    "    simulacions=txtSimulacion.get()\n",
    "    \n",
    "    resultado = process_run(velocidas=int(velocida), cantidadBoleto =int(boletos),tmSimulacion=int(simulacions))\n",
    "    print(\"resp \",resultado)\n",
    "    messagebox.showinfo(message=resultado,title=\"Datos\")\n",
    "    \n",
    "\n",
    "Button(grafica, text=\"Ejecutar\",  bg='gray', fg='black', command=guardar).place(x=100, y=150)\n",
    "\n",
    "grafica.mainloop()\n"
   ]
  },
  {
   "cell_type": "code",
   "execution_count": null,
   "id": "noticed-spain",
   "metadata": {},
   "outputs": [],
   "source": []
  }
 ],
 "metadata": {
  "kernelspec": {
   "display_name": "Python 3",
   "language": "python",
   "name": "python3"
  },
  "language_info": {
   "codemirror_mode": {
    "name": "ipython",
    "version": 3
   },
   "file_extension": ".py",
   "mimetype": "text/x-python",
   "name": "python",
   "nbconvert_exporter": "python",
   "pygments_lexer": "ipython3",
   "version": "3.8.5"
  }
 },
 "nbformat": 4,
 "nbformat_minor": 5
}
