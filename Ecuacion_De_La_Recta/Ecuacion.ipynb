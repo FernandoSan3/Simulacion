{
 "cells": [
  {
   "cell_type": "markdown",
   "id": "infinite-bradford",
   "metadata": {},
   "source": [
    "# Ejercicio No 6: Ecuación de la Recta \n",
    "\n",
    "\n",
    "## Nombre:\n",
    "\n",
    "###       Fernando Sanchez\n",
    "\n",
    "## Enunciado:\n",
    "\n",
    "### •\tEcuacion de la recta"
   ]
  },
  {
   "cell_type": "code",
   "execution_count": 2,
   "id": "criminal-domestic",
   "metadata": {},
   "outputs": [],
   "source": [
    "#importar las librerias necesarias\n",
    "import matplotlib.pyplot as plt"
   ]
  },
  {
   "cell_type": "code",
   "execution_count": 3,
   "id": "metallic-interim",
   "metadata": {},
   "outputs": [],
   "source": [
    "#Valores\n",
    "x1 = 8\n",
    "x2 = 10\n",
    "y1 = 4\n",
    "y2 = 9"
   ]
  },
  {
   "cell_type": "code",
   "execution_count": 4,
   "id": "floating-religious",
   "metadata": {},
   "outputs": [
    {
     "name": "stdout",
     "output_type": "stream",
     "text": [
      "0.5999999999999996\n",
      "Y = 0.5999999999999996x + 5.600000000000001\n"
     ]
    }
   ],
   "source": [
    "# Proceso la ecuacion de la recta\n",
    "pendiente = (y2-y1/x2-x1)\n",
    "print(pendiente)\n",
    "b = x1-( pendiente * y1)\n",
    "ecuacion_recta = \"Y = \"+str(pendiente)+ \"x + \"+str(b)\n",
    "print(ecuacion_recta)"
   ]
  },
  {
   "cell_type": "code",
   "execution_count": 5,
   "id": "annoying-anger",
   "metadata": {},
   "outputs": [],
   "source": [
    "# Función de la recta  Lecta.\n",
    "def funcion(x):\n",
    "    recta = ecuacion_recta.replace(\"x\",\"*x\").replace(\"Y = \",\"\")\n",
    "    return eval(recta)"
   ]
  },
  {
   "cell_type": "code",
   "execution_count": 6,
   "id": "public-consent",
   "metadata": {},
   "outputs": [
    {
     "data": {
      "image/png": "[encoded data removed]",
      "text/plain": [
       "<Figure size 432x288 with 1 Axes>"
      ]
     },
     "metadata": {
      "needs_background": "light"
     },
     "output_type": "display_data"
    }
   ],
   "source": [
    "# Valores del eje X que toma el gráfico.\n",
    "x = range(-10, 15)\n",
    "# Graficar la Ecuación\n",
    "plt.plot(x, [funcion(i) for i in x], color = \"red\")\n",
    "# Establecer el color de los ejes.\n",
    "plt.axhline(0)\n",
    "plt.axvline(0)\n",
    "# Limitar los valores de los ejes.\n",
    "plt.xlim(-10, 10)\n",
    "plt.ylim(-10, 10)\n",
    "# Guardar gráfico la imágen\n",
    "plt.savefig(\"Ecuacion_de_la_Rect.png\")\n",
    "# Mostrarlo.\n",
    "plt.show()"
   ]
  },
  {
   "cell_type": "code",
   "execution_count": null,
   "id": "limited-atlantic",
   "metadata": {},
   "outputs": [],
   "source": []
  }
 ],
 "metadata": {
  "kernelspec": {
   "display_name": "Python 3",
   "language": "python",
   "name": "python3"
  },
  "language_info": {
   "codemirror_mode": {
    "name": "ipython",
    "version": 3
   },
   "file_extension": ".py",
   "mimetype": "text/x-python",
   "name": "python",
   "nbconvert_exporter": "python",
   "pygments_lexer": "ipython3",
   "version": "3.8.5"
  }
 },
 "nbformat": 4,
 "nbformat_minor": 5
}
